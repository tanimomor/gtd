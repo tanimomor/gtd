{
  "cells": [
    {
      "cell_type": "code",
      "execution_count": null,
      "metadata": {
        "colab": {
          "base_uri": "https://localhost:8080/"
        },
        "id": "1a8XjhsuFNjh",
        "outputId": "5a28e122-3936-45bc-d2b8-b2001d5eb61a"
      },
      "outputs": [
        {
          "name": "stdout",
          "output_type": "stream",
          "text": [
            "Mounted at /content/drive/\n"
          ]
        }
      ],
      "source": [
        "from google.colab import drive\n",
        "drive.mount('/content/drive/')"
      ]
    },
    {
      "cell_type": "code",
      "execution_count": null,
      "metadata": {
        "id": "BfnW2zrHFIoc"
      },
      "outputs": [],
      "source": [
        "import pandas as pd\n",
        "import numpy as n\n",
        "import os\n",
        "import json\n",
        "import re"
      ]
    },
    {
      "cell_type": "code",
      "execution_count": null,
      "metadata": {
        "id": "-3PzeMo121l-"
      },
      "outputs": [],
      "source": [
        "import torch\n",
        "import torch.nn as nn\n",
        "import torchvision.transforms as transforms\n",
        "import torchvision.datasets as dsets"
      ]
    },
    {
      "cell_type": "code",
      "execution_count": null,
      "metadata": {
        "id": "mXNaNZJNFFbZ"
      },
      "outputs": [],
      "source": [
        "device = torch.device('cuda' if torch.cuda.is_available() else 'cpu')"
      ]
    },
    {
      "cell_type": "code",
      "execution_count": null,
      "metadata": {
        "id": "9aSDXk3WFTDQ"
      },
      "outputs": [],
      "source": [
        "path = '/content/drive/My Drive/Data/gtdnorm.csv'\n",
        "df = pd.read_csv(path)"
      ]
    },
    {
      "cell_type": "code",
      "execution_count": null,
      "metadata": {
        "id": "OxODAnxjFZWb"
      },
      "outputs": [],
      "source": [
        "# Device\n",
        "device = torch.device(\"cuda:0\" if torch.cuda.is_available() else \"cpu\")"
      ]
    },
    {
      "cell_type": "code",
      "execution_count": null,
      "metadata": {
        "colab": {
          "base_uri": "https://localhost:8080/"
        },
        "id": "W9kDvh14HW8G",
        "outputId": "73977edb-10fb-4e90-f268-54f45da61d12"
      },
      "outputs": [
        {
          "name": "stdout",
          "output_type": "stream",
          "text": [
            "10.0\n"
          ]
        }
      ],
      "source": [
        "for i in df.iloc[0]:\n",
        "  if not (i >= 0 and i <= 1):\n",
        "    print(i)"
      ]
    },
    {
      "cell_type": "code",
      "execution_count": null,
      "metadata": {
        "id": "lB_3YwT9GqLn"
      },
      "outputs": [],
      "source": [
        "from torch.utils.data import Dataset"
      ]
    },
    {
      "cell_type": "code",
      "execution_count": null,
      "metadata": {
        "id": "oWrLTz6mIQwj"
      },
      "outputs": [],
      "source": [
        "df = df.iloc[0:93500]"
      ]
    },
    {
      "cell_type": "code",
      "execution_count": null,
      "metadata": {
        "id": "OE9E0d9dGel8"
      },
      "outputs": [],
      "source": [
        "class GTD(Dataset):\n",
        "    def __init__(self, df):\n",
        "\n",
        "        self.x = torch.tensor(df[[i for i in df.columns if i != 'target']].values, dtype=torch.float32)\n",
        "        self.y = torch.tensor(df.target.values, dtype=torch.long)\n",
        "        self.n_samples = len(df)\n",
        "\n",
        "    def __getitem__(self, index):\n",
        "        x = self.x[index]\n",
        "        y = self.y[index]\n",
        "        return x, y\n",
        "\n",
        "    def __len__(self):\n",
        "        return self.n_samples"
      ]
    },
    {
      "cell_type": "code",
      "execution_count": null,
      "metadata": {
        "id": "0O0B-FDKJfEp"
      },
      "outputs": [],
      "source": [
        "gtd_ds = GTD(df)"
      ]
    },
    {
      "cell_type": "code",
      "execution_count": null,
      "metadata": {
        "colab": {
          "base_uri": "https://localhost:8080/"
        },
        "id": "fwJSZTl0IWkS",
        "outputId": "23a4c2ad-f18f-449a-ee2c-145bde619c23"
      },
      "outputs": [
        {
          "data": {
            "text/plain": [
              "93500"
            ]
          },
          "execution_count": 12,
          "metadata": {},
          "output_type": "execute_result"
        }
      ],
      "source": [
        "len(gtd_ds)"
      ]
    },
    {
      "cell_type": "code",
      "execution_count": null,
      "metadata": {
        "id": "wjAkdRHHISOk"
      },
      "outputs": [],
      "source": [
        "from torch.utils.data import random_split, DataLoader\n",
        "\n",
        "train_size = int(0.8 * len(df))\n",
        "test_size = len(df) - train_size\n",
        "train_dataset, test_dataset = random_split(gtd_ds, [train_size, test_size])"
      ]
    },
    {
      "cell_type": "code",
      "execution_count": null,
      "metadata": {
        "id": "8gzaFxgVPdbM"
      },
      "outputs": [],
      "source": [
        "batch_size = 100\n",
        "num_iters = 3000\n",
        "input_dim = df.shape[1]-1 # num_features = 43\n",
        "num_hidden = 100 # num of hidden nodes\n",
        "output_dim = len(df.target.unique()) #11\n",
        "\n",
        "learning_rate = 0.001  # More power so we can learn faster! previously it was 0.001"
      ]
    },
    {
      "cell_type": "code",
      "execution_count": null,
      "metadata": {
        "id": "5vlTFJctH3e0"
      },
      "outputs": [],
      "source": [
        "num_epochs = 25 #num_iters / (len(train_dataset) / batch_size)\n",
        "num_epochs = int(num_epochs)\n",
        "\n",
        "train_loader = torch.utils.data.DataLoader(dataset=train_dataset,\n",
        "                                           batch_size=batch_size,\n",
        "                                           shuffle=True)\n",
        "\n",
        "test_loader = torch.utils.data.DataLoader(dataset=test_dataset,\n",
        "                                          batch_size=batch_size,\n",
        "                                          shuffle=False)"
      ]
    },
    {
      "cell_type": "code",
      "execution_count": null,
      "metadata": {
        "colab": {
          "base_uri": "https://localhost:8080/"
        },
        "id": "AcJrNmLhP7-e",
        "outputId": "667e3177-06fc-4bc4-f7e4-6149c81c58aa"
      },
      "outputs": [
        {
          "data": {
            "text/plain": [
              "<torch.utils.data.dataloader._SingleProcessDataLoaderIter at 0x7d25fc18d660>"
            ]
          },
          "execution_count": 16,
          "metadata": {},
          "output_type": "execute_result"
        }
      ],
      "source": [
        "iter(train_loader)"
      ]
    },
    {
      "cell_type": "code",
      "execution_count": null,
      "metadata": {
        "colab": {
          "base_uri": "https://localhost:8080/"
        },
        "id": "UBWJ3YcKP3sk",
        "outputId": "10743c95-cf23-4da5-c52d-d05fddd3a53d"
      },
      "outputs": [
        {
          "name": "stdout",
          "output_type": "stream",
          "text": [
            "[tensor([[0.3704, 0.4975, 0.4621,  ..., 0.9000, 0.0000, 0.9000],\n",
            "        [0.5618, 0.5614, 0.5079,  ..., 1.0000, 0.0000, 1.0000],\n",
            "        [0.6254, 0.5978, 0.6062,  ..., 0.0000, 0.0000, 0.0000],\n",
            "        ...,\n",
            "        [0.5467, 0.6272, 0.6265,  ..., 0.0000, 0.0000, 0.0000],\n",
            "        [0.2985, 0.5792, 0.4524,  ..., 0.9000, 0.0000, 0.9000],\n",
            "        [0.6094, 0.6337, 0.7767,  ..., 1.0000, 0.0000, 1.0000]]), tensor([ 3, 10,  0,  0, 10,  0,  0, 10,  0,  2, 10, 10,  0, 10,  0,  0,  0,  0,\n",
            "        10,  0,  1, 10,  0,  8,  8,  3,  0,  2,  0, 10,  0,  0,  0,  0, 10, 10,\n",
            "        10,  0,  0, 10, 10,  1,  6,  2,  0,  1,  3,  7,  4,  2, 10,  0,  0,  0,\n",
            "         0,  2,  0, 10,  0,  1, 10,  0,  2,  1,  6, 10, 10, 10,  2,  0, 10,  0,\n",
            "         0,  0, 10,  0,  0, 10,  0, 10,  0,  0,  0, 10,  0,  0,  0,  9,  0, 10,\n",
            "         0,  0, 10, 10,  1,  0, 10,  0, 10,  2])]\n"
          ]
        }
      ],
      "source": [
        "for i in train_loader:\n",
        "  print(i)\n",
        "  break"
      ]
    },
    {
      "cell_type": "code",
      "execution_count": null,
      "metadata": {
        "colab": {
          "base_uri": "https://localhost:8080/"
        },
        "id": "mLtoQOwC4v-W",
        "outputId": "67faa143-336d-4717-a041-2c2ad79634f4"
      },
      "outputs": [
        {
          "name": "stdout",
          "output_type": "stream",
          "text": [
            "LSTMModel(\n",
            "  (cnn): Conv1d(1, 16, kernel_size=(3,), stride=(1,))\n",
            "  (gru): GRU(1577, 128, num_layers=2, batch_first=True, bidirectional=True)\n",
            "  (fc): Linear(in_features=256, out_features=11, bias=True)\n",
            "  (relu): ReLU()\n",
            ")\n"
          ]
        }
      ],
      "source": [
        "class LSTMModel(nn.Module):\n",
        "    def __init__(self, input_size, hidden_size, num_layers, output_size, cnn_kernel_size, cnn_stride):\n",
        "        super(LSTMModel, self).__init__()\n",
        "\n",
        "\n",
        "        self.hidden_size = hidden_size\n",
        "        self.num_layers = num_layers\n",
        "\n",
        "        # CNN layer\n",
        "        self.cnn = nn.Conv1d(in_channels=1, out_channels=16, kernel_size=cnn_kernel_size, stride=cnn_stride)\n",
        "\n",
        "        self.gru = nn.GRU(1577, hidden_size, num_layers, batch_first=True, bidirectional=True)\n",
        "        self.fc = nn.Linear(hidden_size*2, output_size)\n",
        "        self.relu = nn.ReLU()\n",
        "\n",
        "    def forward(self, x):\n",
        "        cnn_output = self.cnn(x)\n",
        "\n",
        "        # Apply LSTM\n",
        "        h0 = torch.zeros(self.num_layers*2, x.size(0), self.hidden_size).to(x.device)\n",
        "        lstm_output, _ = self.gru(cnn_output, (h0.detach()))\n",
        "\n",
        "        # Index hidden state of last time step\n",
        "        lstm_output = self.fc(self.relu(lstm_output[:, -1, :]))\n",
        "\n",
        "        return lstm_output\n",
        "\n",
        "\n",
        "# hyperparameters\n",
        "input_size = input_dim  # Number of input features\n",
        "hidden_size = 128  # Number of LSTM hidden units\n",
        "num_layers = 2  # Number of LSTM layers\n",
        "output_size = 11  # Number of output classes\n",
        "cnn_kernel_size = 3  # Kernel size for the CNN layer\n",
        "cnn_stride = 1  # Stride for the CNN layer\n",
        "\n",
        "# Instantiate the model\n",
        "model = LSTMModel(input_size, hidden_size, num_layers, output_size, cnn_kernel_size, cnn_stride).to(device)\n",
        "print(model)"
      ]
    },
    {
      "cell_type": "code",
      "execution_count": null,
      "metadata": {
        "id": "x_DzSa3SOYdm"
      },
      "outputs": [],
      "source": [
        "criterion = nn.CrossEntropyLoss()\n",
        "optimizer = torch.optim.Adam(model.parameters(), lr=learning_rate)"
      ]
    },
    {
      "cell_type": "code",
      "execution_count": null,
      "metadata": {
        "id": "g6YssAGNRXA7"
      },
      "outputs": [],
      "source": [
        "num_epochs = 100"
      ]
    },
    {
      "cell_type": "code",
      "execution_count": null,
      "metadata": {
        "colab": {
          "background_save": true,
          "base_uri": "https://localhost:8080/",
          "height": 1000
        },
        "id": "8xbmmsnHN2hV",
        "outputId": "10c3928b-6bb3-486f-9c04-8bf743bf5d7f"
      },
      "outputs": [
        {
          "name": "stdout",
          "output_type": "stream",
          "text": [
            "Accuracy: tensor(96.7433)\n",
            "Epoch [1/100] Loss: 0.0380\n",
            "Accuracy: tensor(97.9198)\n",
            "Epoch [2/100] Loss: 0.0604\n",
            "Accuracy: tensor(98.2406)\n",
            "Accuracy: tensor(98.2460)\n",
            "Epoch [3/100] Loss: 0.0101\n",
            "Accuracy: tensor(98.5401)\n",
            "Epoch [4/100] Loss: 0.0164\n",
            "Accuracy: tensor(98.5401)\n",
            "Accuracy: tensor(98.5134)\n",
            "Epoch [5/100] Loss: 0.0599\n",
            "Accuracy: tensor(98.4866)\n",
            "Epoch [6/100] Loss: 0.0576\n",
            "Accuracy: tensor(98.5455)\n",
            "Accuracy: tensor(98.3690)\n",
            "Epoch [7/100] Loss: 0.0562\n",
            "Accuracy: tensor(98.5294)\n",
            "Epoch [8/100] Loss: 0.0077\n",
            "Accuracy: tensor(98.7166)\n",
            "Accuracy: tensor(98.5829)\n",
            "Epoch [9/100] Loss: 0.0098\n",
            "Accuracy: tensor(98.6417)\n",
            "Epoch [10/100] Loss: 0.0009\n",
            "Accuracy: tensor(98.6578)\n",
            "Accuracy: tensor(98.3690)\n",
            "Epoch [11/100] Loss: 0.0413\n"
          ]
        }
      ],
      "source": [
        "iter = 0\n",
        "for epoch in range(num_epochs):\n",
        "\n",
        "  for i, (inputs, labels) in enumerate(train_loader):\n",
        "      inputs = inputs.to(device)\n",
        "      labels = labels.to(device)\n",
        "\n",
        "      optimizer.zero_grad()\n",
        "\n",
        "      outputs = model(inputs.reshape(100, 1, input_dim))\n",
        "\n",
        "      loss = criterion(outputs, labels)\n",
        "\n",
        "      loss.backward()\n",
        "\n",
        "      optimizer.step()\n",
        "\n",
        "      iter += 1\n",
        "      if iter % 500 == 0:\n",
        "            # Calculate Accuracy\n",
        "            correct = 0\n",
        "            total = 0\n",
        "\n",
        "            for input, labels in test_loader:\n",
        "                input = input.to(device)\n",
        "\n",
        "                # Forward pass only to get logits/output\n",
        "                outputs = model(input.reshape(100, 1, input_dim))\n",
        "\n",
        "                # Get predictions from the maximum value\n",
        "                _, predicted = torch.max(outputs, 1)\n",
        "\n",
        "                # Total number of labels\n",
        "                total += labels.size(0)\n",
        "\n",
        "\n",
        "                # Total correct predictions\n",
        "                if torch.cuda.is_available():\n",
        "                    correct += (predicted.cpu() == labels.cpu()).sum()\n",
        "                else:\n",
        "                    correct += (predicted == labels).sum()\n",
        "\n",
        "            accuracy = correct / total * 100\n",
        "            print('Accuracy:', accuracy)\n",
        "  print('Epoch [{}/{}] Loss: {:.4f}'.format(epoch+1, num_epochs, loss.item()))"
      ]
    },
    {
      "cell_type": "code",
      "execution_count": null,
      "metadata": {
        "id": "399LqT5TbM4b"
      },
      "outputs": [],
      "source": [
        "import numpy as np"
      ]
    },
    {
      "cell_type": "code",
      "execution_count": null,
      "metadata": {
        "colab": {
          "base_uri": "https://localhost:8080/"
        },
        "id": "C-o_KW7saiLd",
        "outputId": "dae91b6a-8a60-4b45-e5fe-c4c286e815c6"
      },
      "outputs": [
        {
          "name": "stdout",
          "output_type": "stream",
          "text": [
            "(18700,) (18700,)\n",
            "[ 0.  0.  2. 10.  0.  0.  0. 10.  1.  0.]\n",
            "[ 0.  0.  2. 10.  0.  0.  0. 10.  1.  0.]\n"
          ]
        }
      ],
      "source": [
        "Toyp = np.array([])\n",
        "yt = np.array([])\n",
        "\n",
        "for input, labels in test_loader:\n",
        "\n",
        "                input = input.to(device)\n",
        "\n",
        "                # Forward pass only to get logits/output\n",
        "                outputs = model(input.reshape(100, 1, input_dim))\n",
        "\n",
        "                # Get predictions from the maximum value\n",
        "                _, predicted = torch.max(outputs, 1)\n",
        "                predicted=predicted.to('cpu')\n",
        "\n",
        "\n",
        "                yp = np.concatenate((yp, predicted.numpy()))\n",
        "                yt = np.concatenate((yt, labels.numpy()))\n",
        "\n",
        "                # Total number of labels\n",
        "                total += labels.size(0)\n",
        "\n",
        "\n",
        "                # Total correct predictions\n",
        "                if torch.cuda.is_available():\n",
        "                    correct += (predicted.cpu() == labels.cpu()).sum()\n",
        "                else:\n",
        "                    correct += (predicted == labels).sum()\n",
        "\n",
        "print(yt.shape, yp.shape)\n",
        "print(yt[:10])\n",
        "print(yp[:10])\n"
      ]
    },
    {
      "cell_type": "code",
      "execution_count": null,
      "metadata": {
        "colab": {
          "base_uri": "https://localhost:8080/"
        },
        "id": "3QKroT1ycYwu",
        "outputId": "c9b979a1-e5f9-454c-8afa-65edde29e460"
      },
      "outputs": [
        {
          "name": "stdout",
          "output_type": "stream",
          "text": [
            "18483\n"
          ]
        }
      ],
      "source": [
        "res = yt==yp\n",
        "print(res.sum())"
      ]
    },
    {
      "cell_type": "code",
      "execution_count": null,
      "metadata": {
        "id": "TSdu5Kj0chvA"
      },
      "outputs": [],
      "source": [
        "from sklearn import metrics\n",
        "\n",
        "cm = metrics.confusion_matrix(yt, yp)"
      ]
    },
    {
      "cell_type": "code",
      "execution_count": null,
      "metadata": {
        "colab": {
          "base_uri": "https://localhost:8080/"
        },
        "id": "TBMybmOKjx_3",
        "outputId": "ca875e6e-4ddc-4088-8329-4fec1b892d21"
      },
      "outputs": [
        {
          "data": {
            "text/plain": [
              "array([[9345,    1,    0,    0,    0,    1,    0,    2,    0,    0,   69],\n",
              "       [   0, 1306,    0,    0,    0,    0,    0,    0,    0,    0,    7],\n",
              "       [   0,    0,  971,    0,    0,    0,    0,    0,    0,    0,    8],\n",
              "       [   0,    0,    1,  496,    0,    0,    0,    0,    0,    0,    7],\n",
              "       [   0,    0,    0,    0,  365,    0,    0,    0,    0,    0,    2],\n",
              "       [   0,    0,    0,    0,    0,  392,    0,    0,    0,    0,    4],\n",
              "       [   0,    0,    0,    0,    0,    0,  353,    0,    0,    0,    3],\n",
              "       [   2,    0,    0,    0,    0,    0,    0,  283,    0,    0,    1],\n",
              "       [   0,    0,    0,    0,    0,    0,    0,    0,  199,    0,    1],\n",
              "       [   0,    0,    0,    0,    0,    0,    0,    0,    0,  206,    1],\n",
              "       [  67,   15,    2,    4,    0,    2,    4,    2,    8,    3, 4567]])"
            ]
          },
          "execution_count": 39,
          "metadata": {},
          "output_type": "execute_result"
        }
      ],
      "source": [
        "cm"
      ]
    },
    {
      "cell_type": "code",
      "execution_count": null,
      "metadata": {
        "id": "FOza3xkNj2U9"
      },
      "outputs": [],
      "source": [
        "import matplotlib.pyplot as plt\n",
        "import seaborn as sns"
      ]
    },
    {
      "cell_type": "code",
      "execution_count": null,
      "metadata": {
        "colab": {
          "base_uri": "https://localhost:8080/",
          "height": 790
        },
        "id": "Ov11LQzSj9p3",
        "outputId": "9fd25679-00e8-4032-eb38-c368f34a59ce"
      },
      "outputs": [
        {
          "data": {
            "text/plain": [
              "<function matplotlib.pyplot.show(close=None, block=None)>"
            ]
          },
          "execution_count": 41,
          "metadata": {},
          "output_type": "execute_result"
        },
        {
          "data": {
            "image/png": "[encoded data removed]",
            "text/plain": [
              "<Figure size 900x900 with 1 Axes>"
            ]
          },
          "metadata": {},
          "output_type": "display_data"
        }
      ],
      "source": [
        "plt.figure(figsize=(9, 9))\n",
        "sns.heatmap(cm, annot = True, fmt = '0.3f', linewidth = 0.5, square = True, cbar = False)\n",
        "plt.ylabel('Actual Values')\n",
        "plt.xlabel('Predicted Values')\n",
        "plt.show"
      ]
    },
    {
      "cell_type": "code",
      "execution_count": null,
      "metadata": {
        "colab": {
          "base_uri": "https://localhost:8080/"
        },
        "id": "D3gWd6gpkv77",
        "outputId": "152deeb0-20a1-41c6-fb7c-fc0d627abbe1"
      },
      "outputs": [
        {
          "name": "stdout",
          "output_type": "stream",
          "text": [
            "              precision    recall  f1-score   support\n",
            "\n",
            "         0.0       0.99      0.99      0.99      9418\n",
            "         1.0       0.99      0.99      0.99      1313\n",
            "         2.0       1.00      0.99      0.99       979\n",
            "         3.0       0.99      0.98      0.99       504\n",
            "         4.0       1.00      0.99      1.00       367\n",
            "         5.0       0.99      0.99      0.99       396\n",
            "         6.0       0.99      0.99      0.99       356\n",
            "         7.0       0.99      0.99      0.99       286\n",
            "         8.0       0.96      0.99      0.98       200\n",
            "         9.0       0.99      1.00      0.99       207\n",
            "        10.0       0.98      0.98      0.98      4674\n",
            "\n",
            "    accuracy                           0.99     18700\n",
            "   macro avg       0.99      0.99      0.99     18700\n",
            "weighted avg       0.99      0.99      0.99     18700\n",
            "\n"
          ]
        }
      ],
      "source": [
        "print(metrics.classification_report(yt, yp))"
      ]
    },
    {
      "cell_type": "code",
      "execution_count": null,
      "metadata": {
        "id": "qe1mljJBl4QX"
      },
      "outputs": [],
      "source": []
    }
  ],
  "metadata": {
    "accelerator": "GPU",
    "colab": {
      "provenance": []
    },
    "kernelspec": {
      "display_name": "Python 3",
      "name": "python3"
    },
    "language_info": {
      "name": "python"
    }
  },
  "nbformat": 4,
  "nbformat_minor": 0
}