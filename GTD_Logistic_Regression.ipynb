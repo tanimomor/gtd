{
  "nbformat": 4,
  "nbformat_minor": 0,
  "metadata": {
    "colab": {
      "provenance": [],
      "gpuType": "T4"
    },
    "kernelspec": {
      "name": "python3",
      "display_name": "Python 3"
    },
    "language_info": {
      "name": "python"
    },
    "accelerator": "GPU"
  },
  "cells": [
    {
      "cell_type": "code",
      "source": [
        "from google.colab import drive\n",
        "drive.mount('/content/drive/')"
      ],
      "metadata": {
        "id": "1a8XjhsuFNjh",
        "colab": {
          "base_uri": "https://localhost:8080/"
        },
        "outputId": "077511e9-a16c-4f30-993a-5a72800ed83c"
      },
      "execution_count": null,
      "outputs": [
        {
          "output_type": "stream",
          "name": "stdout",
          "text": [
            "Mounted at /content/drive/\n"
          ]
        }
      ]
    },
    {
      "cell_type": "code",
      "source": [
        "import pandas as pd\n",
        "import numpy as n\n",
        "import os\n",
        "import json\n",
        "import re"
      ],
      "metadata": {
        "id": "BfnW2zrHFIoc"
      },
      "execution_count": null,
      "outputs": []
    },
    {
      "cell_type": "code",
      "execution_count": null,
      "metadata": {
        "id": "-3PzeMo121l-"
      },
      "outputs": [],
      "source": [
        "import torch\n",
        "import torch.nn as nn\n",
        "import torchvision.transforms as transforms\n",
        "import torchvision.datasets as dsets"
      ]
    },
    {
      "cell_type": "code",
      "source": [
        "device = torch.device('cuda' if torch.cuda.is_available() else 'cpu')"
      ],
      "metadata": {
        "id": "mXNaNZJNFFbZ"
      },
      "execution_count": null,
      "outputs": []
    },
    {
      "cell_type": "code",
      "source": [
        "path = '/content/drive/My Drive/Data/gtdnorm.csv'\n",
        "df = pd.read_csv(path)"
      ],
      "metadata": {
        "id": "9aSDXk3WFTDQ"
      },
      "execution_count": null,
      "outputs": []
    },
    {
      "cell_type": "code",
      "source": [
        "# Device\n",
        "device = torch.device(\"cuda:0\" if torch.cuda.is_available() else \"cpu\")"
      ],
      "metadata": {
        "id": "OxODAnxjFZWb"
      },
      "execution_count": null,
      "outputs": []
    },
    {
      "cell_type": "code",
      "source": [
        "for i in df.iloc[0]:\n",
        "  if not (i >= 0 and i <= 1):\n",
        "    print(i)"
      ],
      "metadata": {
        "id": "W9kDvh14HW8G",
        "colab": {
          "base_uri": "https://localhost:8080/"
        },
        "outputId": "d13ff372-fea8-4ac3-bdb7-790214a4e68d"
      },
      "execution_count": null,
      "outputs": [
        {
          "output_type": "stream",
          "name": "stdout",
          "text": [
            "10.0\n"
          ]
        }
      ]
    },
    {
      "cell_type": "code",
      "source": [
        "df.shape"
      ],
      "metadata": {
        "colab": {
          "base_uri": "https://localhost:8080/"
        },
        "id": "ZIUsJc5k3-AE",
        "outputId": "05b84f4e-72da-413d-adf8-86a669b8b28b"
      },
      "execution_count": null,
      "outputs": [
        {
          "output_type": "execute_result",
          "data": {
            "text/plain": [
              "(93520, 1580)"
            ]
          },
          "metadata": {},
          "execution_count": 8
        }
      ]
    },
    {
      "cell_type": "code",
      "source": [
        "from torch.utils.data import Dataset"
      ],
      "metadata": {
        "id": "lB_3YwT9GqLn"
      },
      "execution_count": null,
      "outputs": []
    },
    {
      "cell_type": "code",
      "source": [
        "df = df.iloc[0:93500]"
      ],
      "metadata": {
        "id": "oWrLTz6mIQwj"
      },
      "execution_count": null,
      "outputs": []
    },
    {
      "cell_type": "code",
      "source": [
        "class GTD(Dataset):\n",
        "    def __init__(self, df):\n",
        "\n",
        "        self.x = torch.tensor(df[[i for i in df.columns if i != 'target']].values, dtype=torch.float32)\n",
        "        self.y = torch.tensor(df.target.values, dtype=torch.long)\n",
        "        self.n_samples = len(df)\n",
        "\n",
        "    def __getitem__(self, index):\n",
        "        x = self.x[index]\n",
        "        y = self.y[index]\n",
        "        return x, y\n",
        "\n",
        "    def __len__(self):\n",
        "        return self.n_samples"
      ],
      "metadata": {
        "id": "OE9E0d9dGel8"
      },
      "execution_count": null,
      "outputs": []
    },
    {
      "cell_type": "code",
      "source": [
        "gtd_ds = GTD(df)"
      ],
      "metadata": {
        "id": "0O0B-FDKJfEp"
      },
      "execution_count": null,
      "outputs": []
    },
    {
      "cell_type": "code",
      "source": [
        "len(gtd_ds)"
      ],
      "metadata": {
        "colab": {
          "base_uri": "https://localhost:8080/"
        },
        "id": "fwJSZTl0IWkS",
        "outputId": "72f5aa67-ad91-4974-8daa-17943df2e9ec"
      },
      "execution_count": null,
      "outputs": [
        {
          "output_type": "execute_result",
          "data": {
            "text/plain": [
              "93500"
            ]
          },
          "metadata": {},
          "execution_count": 13
        }
      ]
    },
    {
      "cell_type": "code",
      "source": [
        "from torch.utils.data import random_split, DataLoader\n",
        "\n",
        "train_size = int(0.8 * len(df))\n",
        "test_size = len(df) - train_size\n",
        "train_dataset, test_dataset = random_split(gtd_ds, [train_size, test_size])"
      ],
      "metadata": {
        "id": "wjAkdRHHISOk"
      },
      "execution_count": null,
      "outputs": []
    },
    {
      "cell_type": "code",
      "source": [
        "batch_size = 100\n",
        "num_iters = 3000\n",
        "input_dim = df.shape[1]-1 # num_features = 43\n",
        "num_hidden = 100 # num of hidden nodes\n",
        "output_dim = len(df.target.unique()) #11\n",
        "\n",
        "learning_rate = 0.001  # More power so we can learn faster! previously it was 0.001"
      ],
      "metadata": {
        "id": "8gzaFxgVPdbM"
      },
      "execution_count": null,
      "outputs": []
    },
    {
      "cell_type": "code",
      "source": [
        "num_epochs = 25 #num_iters / (len(train_dataset) / batch_size)\n",
        "num_epochs = int(num_epochs)\n",
        "\n",
        "train_loader = torch.utils.data.DataLoader(dataset=train_dataset,\n",
        "                                           batch_size=batch_size,\n",
        "                                           shuffle=True)\n",
        "\n",
        "test_loader = torch.utils.data.DataLoader(dataset=test_dataset,\n",
        "                                          batch_size=batch_size,\n",
        "                                          shuffle=False)"
      ],
      "metadata": {
        "id": "5vlTFJctH3e0"
      },
      "execution_count": null,
      "outputs": []
    },
    {
      "cell_type": "code",
      "source": [
        "iter(train_loader)"
      ],
      "metadata": {
        "id": "AcJrNmLhP7-e",
        "colab": {
          "base_uri": "https://localhost:8080/"
        },
        "outputId": "8e41b798-27b8-4f3d-9a22-c3e5bba37531"
      },
      "execution_count": null,
      "outputs": [
        {
          "output_type": "execute_result",
          "data": {
            "text/plain": [
              "<torch.utils.data.dataloader._SingleProcessDataLoaderIter at 0x7bf9303d29b0>"
            ]
          },
          "metadata": {},
          "execution_count": 17
        }
      ]
    },
    {
      "cell_type": "code",
      "source": [
        "for i in train_loader:\n",
        "  print(i)\n",
        "  break"
      ],
      "metadata": {
        "id": "UBWJ3YcKP3sk",
        "colab": {
          "base_uri": "https://localhost:8080/"
        },
        "outputId": "9516e44a-deca-40cc-c59f-f3f21e37b564"
      },
      "execution_count": null,
      "outputs": [
        {
          "output_type": "stream",
          "name": "stdout",
          "text": [
            "[tensor([[0.5214, 0.5253, 0.6514,  ..., 0.0000, 0.0000, 0.0000],\n",
            "        [0.5861, 0.3901, 0.5336,  ..., 0.0000, 0.0000, 0.0000],\n",
            "        [0.5340, 0.5630, 0.6433,  ..., 0.9000, 0.0000, 0.9000],\n",
            "        ...,\n",
            "        [0.2626, 0.4409, 0.1496,  ..., 1.0000, 0.0000, 1.0000],\n",
            "        [0.5334, 0.4746, 0.5142,  ..., 0.0000, 0.0000, 0.0000],\n",
            "        [0.5942, 0.5876, 0.7178,  ..., 0.0000, 0.0000, 0.0000]]), tensor([ 0,  0,  1,  0,  6, 10,  0,  0, 10,  0,  1,  7,  2,  0,  6,  0, 10,  0,\n",
            "         0, 10,  0,  0, 10,  0,  0,  2, 10,  0,  6,  0, 10,  0,  0,  1,  0,  0,\n",
            "         0, 10,  0,  0,  1,  0,  1,  0,  0,  4,  2,  0,  0,  0,  0, 10,  3,  2,\n",
            "         0,  0,  0,  0,  3,  3,  1,  0, 10,  0,  0, 10,  0, 10,  0,  0,  6,  6,\n",
            "         4,  0,  2,  6,  0,  0,  1,  3,  0,  6, 10,  2,  1,  0,  0,  0, 10,  0,\n",
            "        10,  0,  0, 10, 10, 10,  1, 10,  0,  0])]\n"
          ]
        }
      ]
    },
    {
      "cell_type": "code",
      "source": [
        "class NeuralNetworkModel(nn.Module):\n",
        "    def __init__(self, input_size, num_classes, hidden_sizes):\n",
        "        super().__init__()\n",
        "\n",
        "        self.layers = nn.ModuleList()\n",
        "\n",
        "        self.layers.append(nn.Linear(input_size, hidden_sizes[0]))\n",
        "\n",
        "        for i in range(len(hidden_sizes) - 1):\n",
        "            self.layers.append(nn.Linear(hidden_sizes[i], hidden_sizes[i + 1]))\n",
        "\n",
        "        self.layers.append(nn.Linear(hidden_sizes[-1], num_classes))\n",
        "\n",
        "        self.relu = nn.ReLU()\n",
        "\n",
        "    def forward(self, x):\n",
        "\n",
        "        for layer in self.layers:\n",
        "            x = layer(x)\n",
        "            x = self.relu(x)\n",
        "        return x"
      ],
      "metadata": {
        "id": "wiD474UJKcvX"
      },
      "execution_count": null,
      "outputs": []
    },
    {
      "cell_type": "code",
      "source": [
        "hidden_sizes = [512, 256, 128, 64, 32]\n",
        "\n",
        "model = NeuralNetworkModel(input_size = input_dim,\n",
        "                           num_classes = output_dim,\n",
        "                           hidden_sizes = hidden_sizes)\n",
        "model.to(device)"
      ],
      "metadata": {
        "id": "5vHtKEVCMvqo",
        "colab": {
          "base_uri": "https://localhost:8080/"
        },
        "outputId": "40ac6943-34d1-47ee-cd71-c75484ecc0ff"
      },
      "execution_count": null,
      "outputs": [
        {
          "output_type": "execute_result",
          "data": {
            "text/plain": [
              "NeuralNetworkModel(\n",
              "  (layers): ModuleList(\n",
              "    (0): Linear(in_features=1579, out_features=512, bias=True)\n",
              "    (1): Linear(in_features=512, out_features=256, bias=True)\n",
              "    (2): Linear(in_features=256, out_features=128, bias=True)\n",
              "    (3): Linear(in_features=128, out_features=64, bias=True)\n",
              "    (4): Linear(in_features=64, out_features=32, bias=True)\n",
              "    (5): Linear(in_features=32, out_features=11, bias=True)\n",
              "  )\n",
              "  (relu): ReLU()\n",
              ")"
            ]
          },
          "metadata": {},
          "execution_count": 20
        }
      ]
    },
    {
      "cell_type": "code",
      "source": [
        "criterion = nn.CrossEntropyLoss()\n",
        "optimizer = torch.optim.Adam(model.parameters(), lr=learning_rate)"
      ],
      "metadata": {
        "id": "x_DzSa3SOYdm"
      },
      "execution_count": null,
      "outputs": []
    },
    {
      "cell_type": "code",
      "source": [
        "num_epochs = 100"
      ],
      "metadata": {
        "id": "g6YssAGNRXA7"
      },
      "execution_count": null,
      "outputs": []
    },
    {
      "cell_type": "code",
      "source": [
        "iter = 0\n",
        "for epoch in range(num_epochs):\n",
        "  for i, (inputs, labels) in enumerate(train_loader):\n",
        "      inputs = inputs.to(device)\n",
        "      labels = labels.to(device)\n",
        "\n",
        "      optimizer.zero_grad()\n",
        "\n",
        "      outputs = model(inputs)\n",
        "\n",
        "      loss = criterion(outputs, labels)\n",
        "\n",
        "      loss.backward()\n",
        "\n",
        "      optimizer.step()\n",
        "\n",
        "      iter += 1\n",
        "      if iter % 500 == 0:\n",
        "            # Calculate Accuracy\n",
        "            correct = 0\n",
        "            total = 0\n",
        "\n",
        "            for input, labels in test_loader:\n",
        "\n",
        "                input = input.to(device)\n",
        "\n",
        "                # Forward pass only to get logits/output\n",
        "                outputs = model(input)\n",
        "\n",
        "                # Get predictions from the maximum value\n",
        "                _, predicted = torch.max(outputs, 1)\n",
        "\n",
        "                # Total number of labels\n",
        "                total += labels.size(0)\n",
        "\n",
        "\n",
        "                # Total correct predictions\n",
        "                if torch.cuda.is_available():\n",
        "                    correct += (predicted.cpu() == labels.cpu()).sum()\n",
        "                else:\n",
        "                    correct += (predicted == labels).sum()\n",
        "\n",
        "            accuracy = 100 * correct.item() / total\n",
        "            print('Accuracy\\n', accuracy)\n",
        "  print('Epoch [{}/{}] Loss: {:.4f}'.format(epoch+1, num_epochs, loss.item()))"
      ],
      "metadata": {
        "colab": {
          "base_uri": "https://localhost:8080/"
        },
        "id": "8xbmmsnHN2hV",
        "outputId": "d10b8dbd-89d5-4fab-e54d-05132d67b8f4"
      },
      "execution_count": null,
      "outputs": [
        {
          "output_type": "stream",
          "name": "stdout",
          "text": [
            "Accuracy\n",
            " 77.85561497326204\n",
            "Epoch [1/100] Loss: 0.5064\n",
            "Accuracy\n",
            " 79.48663101604278\n",
            "Epoch [2/100] Loss: 0.4440\n",
            "Accuracy\n",
            " 81.9144385026738\n",
            "Accuracy\n",
            " 80.82352941176471\n",
            "Epoch [3/100] Loss: 0.6850\n",
            "Accuracy\n",
            " 80.76470588235294\n",
            "Epoch [4/100] Loss: 0.5224\n",
            "Accuracy\n",
            " 82.71122994652407\n",
            "Accuracy\n",
            " 80.14438502673796\n",
            "Epoch [5/100] Loss: 0.5366\n",
            "Accuracy\n",
            " 82.59893048128342\n",
            "Epoch [6/100] Loss: 0.4670\n",
            "Accuracy\n",
            " 82.93048128342247\n",
            "Accuracy\n",
            " 82.80213903743315\n",
            "Epoch [7/100] Loss: 0.6396\n",
            "Accuracy\n",
            " 82.50802139037434\n",
            "Epoch [8/100] Loss: 0.4435\n",
            "Accuracy\n",
            " 83.02139037433155\n",
            "Accuracy\n",
            " 83.01069518716578\n",
            "Epoch [9/100] Loss: 0.4448\n",
            "Accuracy\n",
            " 82.67379679144385\n",
            "Epoch [10/100] Loss: 0.6078\n",
            "Accuracy\n",
            " 82.93048128342247\n",
            "Accuracy\n",
            " 83.0855614973262\n",
            "Epoch [11/100] Loss: 0.4874\n",
            "Accuracy\n",
            " 82.84491978609626\n",
            "Epoch [12/100] Loss: 0.5632\n",
            "Accuracy\n",
            " 80.44385026737967\n",
            "Accuracy\n",
            " 80.44919786096257\n",
            "Epoch [13/100] Loss: 0.2010\n",
            "Accuracy\n",
            " 80.3475935828877\n",
            "Epoch [14/100] Loss: 0.4103\n",
            "Accuracy\n",
            " 80.62032085561498\n",
            "Accuracy\n",
            " 80.52941176470588\n",
            "Epoch [15/100] Loss: 0.4561\n",
            "Accuracy\n",
            " 80.44385026737967\n",
            "Epoch [16/100] Loss: 0.4936\n",
            "Accuracy\n",
            " 80.31016042780749\n",
            "Accuracy\n",
            " 79.81818181818181\n",
            "Epoch [17/100] Loss: 0.6117\n",
            "Accuracy\n",
            " 80.63101604278074\n",
            "Epoch [18/100] Loss: 0.6106\n",
            "Accuracy\n",
            " 80.70053475935829\n",
            "Accuracy\n",
            " 80.55614973262033\n",
            "Epoch [19/100] Loss: 0.5583\n",
            "Accuracy\n",
            " 79.94117647058823\n",
            "Epoch [20/100] Loss: 0.4923\n",
            "Accuracy\n",
            " 80.55614973262033\n",
            "Accuracy\n",
            " 80.41711229946524\n",
            "Epoch [21/100] Loss: 0.5882\n",
            "Accuracy\n",
            " 79.32085561497327\n",
            "Epoch [22/100] Loss: 0.3458\n",
            "Accuracy\n",
            " 79.8716577540107\n",
            "Accuracy\n",
            " 80.76470588235294\n",
            "Epoch [23/100] Loss: 0.6628\n",
            "Accuracy\n",
            " 80.41711229946524\n",
            "Epoch [24/100] Loss: 0.4894\n",
            "Accuracy\n",
            " 80.56684491978609\n",
            "Accuracy\n",
            " 80.62032085561498\n",
            "Epoch [25/100] Loss: 0.3761\n",
            "Accuracy\n",
            " 80.6470588235294\n",
            "Epoch [26/100] Loss: 0.5407\n",
            "Accuracy\n",
            " 80.77540106951872\n",
            "Accuracy\n",
            " 80.32085561497327\n",
            "Epoch [27/100] Loss: 0.4003\n",
            "Accuracy\n",
            " 80.58288770053476\n",
            "Epoch [28/100] Loss: 0.4558\n",
            "Accuracy\n",
            " 80.62566844919786\n",
            "Accuracy\n",
            " 80.64171122994652\n",
            "Epoch [29/100] Loss: 0.5005\n",
            "Accuracy\n",
            " 80.475935828877\n",
            "Epoch [30/100] Loss: 0.7036\n",
            "Accuracy\n",
            " 79.77005347593582\n",
            "Accuracy\n",
            " 80.67914438502673\n",
            "Epoch [31/100] Loss: 0.4803\n",
            "Accuracy\n",
            " 80.7379679144385\n",
            "Epoch [32/100] Loss: 0.3318\n",
            "Accuracy\n",
            " 80.76470588235294\n",
            "Accuracy\n",
            " 80.7433155080214\n",
            "Epoch [33/100] Loss: 0.3958\n",
            "Accuracy\n",
            " 80.67379679144385\n",
            "Epoch [34/100] Loss: 0.4357\n",
            "Accuracy\n",
            " 80.3475935828877\n",
            "Accuracy\n",
            " 79.98930481283422\n",
            "Epoch [35/100] Loss: 0.4917\n",
            "Accuracy\n",
            " 80.67379679144385\n",
            "Epoch [36/100] Loss: 0.5217\n",
            "Accuracy\n",
            " 80.56149732620321\n",
            "Accuracy\n",
            " 80.37433155080214\n",
            "Epoch [37/100] Loss: 0.6491\n",
            "Accuracy\n",
            " 80.41176470588235\n",
            "Epoch [38/100] Loss: 0.5013\n",
            "Accuracy\n",
            " 80.72192513368984\n",
            "Accuracy\n",
            " 80.53475935828877\n",
            "Epoch [39/100] Loss: 0.5803\n",
            "Accuracy\n",
            " 80.80748663101605\n",
            "Epoch [40/100] Loss: 0.3678\n",
            "Accuracy\n",
            " 80.45989304812834\n",
            "Accuracy\n",
            " 80.65775401069519\n",
            "Epoch [41/100] Loss: 0.5786\n",
            "Accuracy\n",
            " 80.16042780748663\n",
            "Epoch [42/100] Loss: 0.5549\n",
            "Accuracy\n",
            " 80.42245989304813\n",
            "Accuracy\n",
            " 80.24064171122994\n",
            "Epoch [43/100] Loss: 0.4384\n",
            "Accuracy\n",
            " 79.7379679144385\n",
            "Epoch [44/100] Loss: 0.7419\n",
            "Accuracy\n",
            " 80.3903743315508\n",
            "Accuracy\n",
            " 80.77540106951872\n",
            "Epoch [45/100] Loss: 0.5531\n",
            "Accuracy\n",
            " 80.76470588235294\n",
            "Epoch [46/100] Loss: 0.4374\n",
            "Accuracy\n",
            " 80.79679144385027\n",
            "Accuracy\n",
            " 80.43315508021391\n",
            "Epoch [47/100] Loss: 0.6227\n",
            "Accuracy\n",
            " 80.77005347593582\n",
            "Epoch [48/100] Loss: 0.5768\n",
            "Accuracy\n",
            " 80.77540106951872\n",
            "Accuracy\n",
            " 80.62032085561498\n",
            "Epoch [49/100] Loss: 0.4977\n",
            "Accuracy\n",
            " 80.48663101604278\n",
            "Epoch [50/100] Loss: 0.4032\n",
            "Accuracy\n",
            " 79.524064171123\n",
            "Accuracy\n",
            " 80.75935828877006\n",
            "Epoch [51/100] Loss: 0.5423\n",
            "Accuracy\n",
            " 80.74866310160428\n",
            "Epoch [52/100] Loss: 0.2199\n",
            "Accuracy\n",
            " 80.77540106951872\n",
            "Accuracy\n",
            " 80.79144385026738\n",
            "Epoch [53/100] Loss: 0.5164\n",
            "Accuracy\n",
            " 80.78609625668449\n",
            "Epoch [54/100] Loss: 0.5128\n",
            "Accuracy\n",
            " 80.57219251336899\n",
            "Accuracy\n",
            " 80.72727272727273\n",
            "Epoch [55/100] Loss: 0.5486\n",
            "Accuracy\n",
            " 80.70053475935829\n",
            "Epoch [56/100] Loss: 0.4652\n",
            "Accuracy\n",
            " 80.88770053475936\n",
            "Accuracy\n",
            " 80.57219251336899\n",
            "Epoch [57/100] Loss: 0.5102\n",
            "Accuracy\n",
            " 80.85026737967914\n",
            "Epoch [58/100] Loss: 0.5704\n",
            "Accuracy\n",
            " 80.89304812834224\n",
            "Accuracy\n",
            " 80.88235294117646\n",
            "Epoch [59/100] Loss: 0.4945\n",
            "Accuracy\n",
            " 80.42780748663101\n",
            "Epoch [60/100] Loss: 0.5098\n",
            "Accuracy\n",
            " 80.75935828877006\n",
            "Accuracy\n",
            " 80.68983957219251\n",
            "Epoch [61/100] Loss: 0.5560\n",
            "Accuracy\n",
            " 80.2620320855615\n",
            "Epoch [62/100] Loss: 0.3967\n",
            "Accuracy\n",
            " 80.58823529411765\n",
            "Accuracy\n",
            " 80.89839572192513\n",
            "Epoch [63/100] Loss: 0.4231\n",
            "Accuracy\n",
            " 80.76470588235294\n",
            "Epoch [64/100] Loss: 0.4789\n",
            "Accuracy\n",
            " 80.62032085561498\n",
            "Accuracy\n",
            " 80.6096256684492\n",
            "Epoch [65/100] Loss: 0.4848\n",
            "Accuracy\n",
            " 80.8288770053476\n",
            "Epoch [66/100] Loss: 0.5338\n",
            "Accuracy\n",
            " 79.8288770053476\n",
            "Accuracy\n",
            " 80.8663101604278\n",
            "Epoch [67/100] Loss: 0.4155\n",
            "Accuracy\n",
            " 80.43315508021391\n",
            "Epoch [68/100] Loss: 0.4565\n",
            "Accuracy\n",
            " 80.71122994652407\n",
            "Accuracy\n",
            " 80.40641711229947\n",
            "Epoch [69/100] Loss: 0.5864\n",
            "Accuracy\n",
            " 80.62032085561498\n",
            "Epoch [70/100] Loss: 0.2899\n",
            "Accuracy\n",
            " 80.46524064171123\n",
            "Accuracy\n",
            " 80.97860962566845\n",
            "Epoch [71/100] Loss: 0.4162\n",
            "Accuracy\n",
            " 80.82352941176471\n",
            "Epoch [72/100] Loss: 0.3287\n",
            "Accuracy\n",
            " 80.6951871657754\n",
            "Accuracy\n",
            " 80.78609625668449\n",
            "Epoch [73/100] Loss: 0.6527\n",
            "Accuracy\n",
            " 80.7807486631016\n",
            "Epoch [74/100] Loss: 0.4685\n",
            "Accuracy\n",
            " 80.6470588235294\n",
            "Accuracy\n",
            " 80.21390374331551\n",
            "Epoch [75/100] Loss: 0.4829\n",
            "Accuracy\n",
            " 80.72727272727273\n",
            "Epoch [76/100] Loss: 0.5192\n",
            "Accuracy\n",
            " 80.66844919786097\n",
            "Accuracy\n",
            " 80.42245989304813\n",
            "Epoch [77/100] Loss: 0.4383\n",
            "Accuracy\n",
            " 80.79679144385027\n",
            "Epoch [78/100] Loss: 0.4143\n",
            "Accuracy\n",
            " 79.40106951871658\n",
            "Accuracy\n",
            " 80.78609625668449\n",
            "Epoch [79/100] Loss: 0.5662\n",
            "Accuracy\n",
            " 80.85026737967914\n",
            "Epoch [80/100] Loss: 0.3941\n",
            "Accuracy\n",
            " 80.92513368983957\n",
            "Accuracy\n",
            " 80.71122994652407\n",
            "Epoch [81/100] Loss: 0.3747\n",
            "Accuracy\n",
            " 80.8288770053476\n",
            "Epoch [82/100] Loss: 0.4027\n",
            "Accuracy\n",
            " 80.83957219251337\n",
            "Accuracy\n",
            " 80.94652406417113\n",
            "Epoch [83/100] Loss: 0.3072\n",
            "Accuracy\n",
            " 80.67379679144385\n",
            "Epoch [84/100] Loss: 0.3528\n",
            "Accuracy\n",
            " 80.34224598930481\n",
            "Accuracy\n",
            " 80.7807486631016\n",
            "Epoch [85/100] Loss: 0.3997\n",
            "Accuracy\n",
            " 80.77540106951872\n",
            "Epoch [86/100] Loss: 0.3990\n",
            "Accuracy\n",
            " 80.6470588235294\n",
            "Accuracy\n",
            " 80.77005347593582\n",
            "Epoch [87/100] Loss: 0.6153\n",
            "Accuracy\n",
            " 80.40106951871658\n",
            "Epoch [88/100] Loss: 0.3683\n",
            "Accuracy\n",
            " 80.8288770053476\n",
            "Accuracy\n",
            " 80.91978609625669\n",
            "Epoch [89/100] Loss: 0.4734\n",
            "Accuracy\n",
            " 80.79679144385027\n",
            "Epoch [90/100] Loss: 0.4176\n",
            "Accuracy\n",
            " 80.85026737967914\n",
            "Accuracy\n",
            " 80.85561497326204\n",
            "Epoch [91/100] Loss: 0.4121\n",
            "Accuracy\n",
            " 80.88770053475936\n",
            "Epoch [92/100] Loss: 0.6882\n",
            "Accuracy\n",
            " 80.93582887700535\n",
            "Accuracy\n",
            " 80.89839572192513\n",
            "Epoch [93/100] Loss: 0.3365\n",
            "Accuracy\n",
            " 79.27807486631016\n",
            "Epoch [94/100] Loss: 0.4122\n",
            "Accuracy\n",
            " 80.85561497326204\n",
            "Accuracy\n",
            " 80.01604278074866\n",
            "Epoch [95/100] Loss: 0.4713\n",
            "Accuracy\n",
            " 80.89839572192513\n",
            "Epoch [96/100] Loss: 0.4630\n",
            "Accuracy\n",
            " 80.84491978609626\n",
            "Accuracy\n",
            " 80.79144385026738\n",
            "Epoch [97/100] Loss: 0.5124\n",
            "Accuracy\n",
            " 80.79679144385027\n",
            "Epoch [98/100] Loss: 0.3516\n",
            "Accuracy\n",
            " 80.66844919786097\n",
            "Accuracy\n",
            " 80.60427807486631\n",
            "Epoch [99/100] Loss: 0.4634\n",
            "Accuracy\n",
            " 80.3048128342246\n",
            "Epoch [100/100] Loss: 0.3672\n"
          ]
        }
      ]
    },
    {
      "cell_type": "code",
      "source": [
        "import numpy as np"
      ],
      "metadata": {
        "id": "399LqT5TbM4b"
      },
      "execution_count": null,
      "outputs": []
    },
    {
      "cell_type": "code",
      "source": [
        "yp = np.array([])\n",
        "yt = np.array([])\n",
        "\n",
        "for input, labels in test_loader:\n",
        "\n",
        "                input = input.to(device)\n",
        "\n",
        "                # Forward pass only to get logits/output\n",
        "                outputs = model(input)\n",
        "\n",
        "                # Get predictions from the maximum value\n",
        "                _, predicted = torch.max(outputs, 1)\n",
        "\n",
        "\n",
        "                yp = np.concatenate((yp, predicted.numpy()))\n",
        "                yt = np.concatenate((yt, labels.numpy()))\n",
        "\n",
        "                # Total number of labels\n",
        "                total += labels.size(0)\n",
        "\n",
        "\n",
        "                # Total correct predictions\n",
        "                if torch.cuda.is_available():\n",
        "                    correct += (predicted.cpu() == labels.cpu()).sum()\n",
        "                else:\n",
        "                    correct += (predicted == labels).sum()\n",
        "\n",
        "print(yt.shape, yp.shape)\n",
        "print(yt[:10])\n",
        "print(yp[:10])\n"
      ],
      "metadata": {
        "colab": {
          "base_uri": "https://localhost:8080/",
          "height": 247
        },
        "id": "C-o_KW7saiLd",
        "outputId": "84cd6075-2230-466c-afa8-767aa03dffcd"
      },
      "execution_count": null,
      "outputs": [
        {
          "output_type": "error",
          "ename": "TypeError",
          "evalue": "ignored",
          "traceback": [
            "\u001b[0;31m---------------------------------------------------------------------------\u001b[0m",
            "\u001b[0;31mTypeError\u001b[0m                                 Traceback (most recent call last)",
            "\u001b[0;32m<ipython-input-25-dc4665607a2b>\u001b[0m in \u001b[0;36m<cell line: 4>\u001b[0;34m()\u001b[0m\n\u001b[1;32m     13\u001b[0m \u001b[0;34m\u001b[0m\u001b[0m\n\u001b[1;32m     14\u001b[0m \u001b[0;34m\u001b[0m\u001b[0m\n\u001b[0;32m---> 15\u001b[0;31m                 \u001b[0myp\u001b[0m \u001b[0;34m=\u001b[0m \u001b[0mnp\u001b[0m\u001b[0;34m.\u001b[0m\u001b[0mconcatenate\u001b[0m\u001b[0;34m(\u001b[0m\u001b[0;34m(\u001b[0m\u001b[0myp\u001b[0m\u001b[0;34m,\u001b[0m \u001b[0mpredicted\u001b[0m\u001b[0;34m.\u001b[0m\u001b[0mnumpy\u001b[0m\u001b[0;34m(\u001b[0m\u001b[0;34m)\u001b[0m\u001b[0;34m)\u001b[0m\u001b[0;34m)\u001b[0m\u001b[0;34m\u001b[0m\u001b[0;34m\u001b[0m\u001b[0m\n\u001b[0m\u001b[1;32m     16\u001b[0m                 \u001b[0myt\u001b[0m \u001b[0;34m=\u001b[0m \u001b[0mnp\u001b[0m\u001b[0;34m.\u001b[0m\u001b[0mconcatenate\u001b[0m\u001b[0;34m(\u001b[0m\u001b[0;34m(\u001b[0m\u001b[0myt\u001b[0m\u001b[0;34m,\u001b[0m \u001b[0mlabels\u001b[0m\u001b[0;34m.\u001b[0m\u001b[0mnumpy\u001b[0m\u001b[0;34m(\u001b[0m\u001b[0;34m)\u001b[0m\u001b[0;34m)\u001b[0m\u001b[0;34m)\u001b[0m\u001b[0;34m\u001b[0m\u001b[0;34m\u001b[0m\u001b[0m\n\u001b[1;32m     17\u001b[0m \u001b[0;34m\u001b[0m\u001b[0m\n",
            "\u001b[0;31mTypeError\u001b[0m: can't convert cuda:0 device type tensor to numpy. Use Tensor.cpu() to copy the tensor to host memory first."
          ]
        }
      ]
    },
    {
      "cell_type": "code",
      "source": [
        "res = yt==yp\n",
        "print(res.sum())"
      ],
      "metadata": {
        "id": "3QKroT1ycYwu"
      },
      "execution_count": null,
      "outputs": []
    },
    {
      "cell_type": "code",
      "source": [
        "from sklearn import metrics\n",
        "\n",
        "cm = metrics.confusion_matrix(yt, yp)"
      ],
      "metadata": {
        "id": "TSdu5Kj0chvA"
      },
      "execution_count": null,
      "outputs": []
    },
    {
      "cell_type": "code",
      "source": [
        "cm"
      ],
      "metadata": {
        "id": "TBMybmOKjx_3"
      },
      "execution_count": null,
      "outputs": []
    },
    {
      "cell_type": "code",
      "source": [
        "import matplotlib.pyplot as plt\n",
        "import seaborn as sns"
      ],
      "metadata": {
        "id": "FOza3xkNj2U9"
      },
      "execution_count": null,
      "outputs": []
    },
    {
      "cell_type": "code",
      "source": [
        "sns.set(style=\"whitegrid\")\n",
        "plt.figure(figsize=(9, 9))\n",
        "sns.heatmap(cm, annot = True, fmt = '0.3f', linewidth = 0.5, square = True, cbar = False)\n",
        "plt.ylabel('Actual Values')\n",
        "plt.xlabel('Predicted Values')\n",
        "plt.show"
      ],
      "metadata": {
        "id": "Ov11LQzSj9p3"
      },
      "execution_count": null,
      "outputs": []
    },
    {
      "cell_type": "code",
      "source": [
        "print(metrics.classification_report(yt, yp))"
      ],
      "metadata": {
        "id": "D3gWd6gpkv77"
      },
      "execution_count": null,
      "outputs": []
    },
    {
      "cell_type": "code",
      "source": [],
      "metadata": {
        "id": "qe1mljJBl4QX"
      },
      "execution_count": null,
      "outputs": []
    }
  ]
}